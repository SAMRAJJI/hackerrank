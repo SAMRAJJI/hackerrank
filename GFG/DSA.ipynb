{
 "cells": [
  {
   "cell_type": "code",
   "execution_count": null,
   "id": "bc36da06",
   "metadata": {},
   "outputs": [],
   "source": [
    "class Solution:\n",
    "\tdef pushZerosToEnd(self,arr):\n",
    "\t    count=0\n",
    "\t    for i in range(len(arr)):\n",
    "\t       if arr[i] !=0:\n",
    "\t           arr[i],arr[count]=arr[count], arr[i]\n",
    "\t           count+=1"
   ]
  }
 ],
 "metadata": {
  "language_info": {
   "name": "python"
  }
 },
 "nbformat": 4,
 "nbformat_minor": 5
}
