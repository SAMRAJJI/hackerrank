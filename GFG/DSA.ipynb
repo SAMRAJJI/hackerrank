{
 "cells": [
  {
   "cell_type": "code",
   "execution_count": null,
   "id": "bc36da06",
   "metadata": {},
   "outputs": [],
   "source": [
    "class Solution:\n",
    "\tdef pushZerosToEnd(self,arr):\n",
    "\t    count=0\n",
    "\t    for i in range(len(arr)):\n",
    "\t       if arr[i] !=0:\n",
    "\t           arr[i],arr[count]=arr[count], arr[i]\n",
    "\t           count+=1"
   ]
  },
  {
   "cell_type": "code",
   "execution_count": null,
   "id": "8bb406d5",
   "metadata": {},
   "outputs": [],
   "source": [
    "class Solution:\n",
    "    def reverseArray(self, arr):\n",
    "        l=0\n",
    "        r=len(arr)-1\n",
    "        while l<r:\n",
    "            arr[l], arr[r]=arr[r], arr[l]\n",
    "            l+=1\n",
    "            r-=1\n",
    "        return arr\n",
    "def main():\n",
    "    arr = [1, 2, 0, 4, 0, 5]\n",
    "    sol = Solution()\n",
    "    sol.pushZerosToEnd(arr)\n",
    "    print(\"Array after pushing zeros to end:\", arr)\n",
    "    \n",
    "    arr = [1, 2, 3, 4, 5]\n",
    "    sol.reverseArray(arr)\n",
    "    print(\"Reversed array:\", arr)"
   ]
  },
  {
   "cell_type": "code",
   "execution_count": null,
   "id": "007c7051",
   "metadata": {},
   "outputs": [],
   "source": [
    "def maximumProfit(self, prices):\n",
    "        x= prices[0]\n",
    "        val=0\n",
    "        for j in range(1, len(prices)):\n",
    "            x= min(x, prices[j])\n",
    "            val=max(val, prices[j]-x)\n",
    "        return val"
   ]
  },
  {
   "cell_type": "code",
   "execution_count": null,
   "id": "106f7098",
   "metadata": {},
   "outputs": [],
   "source": [
    "def reverse(self,  arr, start, end):\n",
    "        while start<end:\n",
    "            arr[start], arr[end]=arr[end], arr[start]\n",
    "            start+=1\n",
    "            end-=1\n",
    "    #Function to rotate an array by d elements in counter-clockwise direction. \n",
    "def rotateArr(self, arr, d):\n",
    "    n=len(arr)\n",
    "    if n==0:\n",
    "        return\n",
    "    d%=n\n",
    "    self.reverse(arr, 0, d-1)\n",
    "    self.reverse(arr, d, n-1)\n",
    "    self.reverse(arr, 0, n-1)"
   ]
  }
 ],
 "metadata": {
  "language_info": {
   "name": "python"
  }
 },
 "nbformat": 4,
 "nbformat_minor": 5
}
