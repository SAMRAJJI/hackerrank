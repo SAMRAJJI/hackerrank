{
 "cells": [
  {
   "cell_type": "code",
   "execution_count": null,
   "id": "bc36da06",
   "metadata": {},
   "outputs": [],
   "source": [
    "class Solution:\n",
    "    def pushZerosToEnd(self, arr):\n",
    "        count = 0\n",
    "        for i in range(len(arr)):\n",
    "            if arr[i] != 0:\n",
    "                arr[i], arr[count] = arr[count], arr[i]\n",
    "                count += 1\n",
    "        return arr  # return the modified array\n",
    "\n",
    "# Driver code\n",
    "if __name__ == \"__main__\":\n",
    "    arr = [0, 1, 0, 3, 12]\n",
    "    ob = Solution()\n",
    "    result = ob.pushZerosToEnd(arr)\n",
    "    print(result)\n"
   ]
  },
  {
   "cell_type": "code",
   "execution_count": null,
   "id": "8bb406d5",
   "metadata": {},
   "outputs": [],
   "source": [
    "class Solution:\n",
    "    def reverseArray(self, arr):\n",
    "        l=0\n",
    "        r=len(arr)-1\n",
    "        while l<r:\n",
    "            arr[l], arr[r]=arr[r], arr[l]\n",
    "            l+=1\n",
    "            r-=1\n",
    "        return arr\n",
    "def main():\n",
    "    arr = [1, 2, 0, 4, 0, 5]\n",
    "    sol = Solution()\n",
    "    sol.pushZerosToEnd(arr)\n",
    "    print(\"Array after pushing zeros to end:\", arr)\n",
    "    \n",
    "    arr = [1, 2, 3, 4, 5]\n",
    "    sol.reverseArray(arr)\n",
    "    print(\"Reversed array:\", arr)"
   ]
  },
  {
   "cell_type": "code",
   "execution_count": null,
   "id": "007c7051",
   "metadata": {},
   "outputs": [],
   "source": [
    "def maximumProfit(self, prices):\n",
    "        x= prices[0]\n",
    "        val=0\n",
    "        for j in range(1, len(prices)):\n",
    "            x= min(x, prices[j])\n",
    "            val=max(val, prices[j]-x)\n",
    "        return val"
   ]
  },
  {
   "cell_type": "code",
   "execution_count": null,
   "id": "106f7098",
   "metadata": {},
   "outputs": [],
   "source": [
    "def reverse(self,  arr, start, end):\n",
    "        while start<end:\n",
    "            arr[start], arr[end]=arr[end], arr[start]\n",
    "            start+=1\n",
    "            end-=1\n",
    "    #Function to rotate an array by d elements in counter-clockwise direction. \n",
    "def rotateArr(self, arr, d):\n",
    "    n=len(arr)\n",
    "    if n==0:\n",
    "        return\n",
    "    d%=n\n",
    "    self.reverse(arr, 0, d-1)\n",
    "    self.reverse(arr, d, n-1)\n",
    "    self.reverse(arr, 0, n-1)"
   ]
  },
  {
   "cell_type": "code",
   "execution_count": null,
   "id": "b1573b6f",
   "metadata": {},
   "outputs": [],
   "source": [
    "def nextPermutation(self, arr):\n",
    "        n= len(arr)\n",
    "        p=-1\n",
    "        for i in range(n-2, -1, -1):\n",
    "            if arr[i]< arr[i+1]:\n",
    "                p=i\n",
    "                break\n",
    "        if p == -1:\n",
    "            arr.reverse()\n",
    "            return\n",
    "        for i in range(n-1, p, -1):\n",
    "            if arr[i]> arr[p]:\n",
    "                arr[i], arr[p]= arr[p], arr[i]\n",
    "                break\n",
    "        l, r= p+1, n-1\n",
    "        while l<r:\n",
    "            arr[l], arr[r]= arr[r], arr[l]\n",
    "            l+=1\n",
    "            r-=1"
   ]
  },
  {
   "cell_type": "code",
   "execution_count": null,
   "id": "e13a7da3",
   "metadata": {},
   "outputs": [],
   "source": [
    "from collections import Counter\n",
    "\n",
    "class Solution:\n",
    "    # Function to find the elements with maximum frequency in the array\n",
    "    def findMajority(self, arr):\n",
    "        c = Counter(arr)\n",
    "        m = max(c.values())\n",
    "        r = [num for num, val in c.items() if val == m]\n",
    "        return r\n",
    "\n",
    "s = Solution()\n",
    "arr = list(map(int, input(\"Enter numbers separated by space: \").split()))\n",
    "print(s.findMajority(arr))\n"
   ]
  },
  {
   "cell_type": "code",
   "execution_count": null,
   "id": "5457ba67",
   "metadata": {},
   "outputs": [],
   "source": [
    "class Solution:\n",
    "    # Function to find the majority elements in the array\n",
    "    def findMajority(self, arr):\n",
    "        n=len(arr)\n",
    "        res=[]\n",
    "        fre={}\n",
    "        for i in arr:\n",
    "            fre[i]=fre.get(i, 0)+1\n",
    "\n",
    "        for e, c in fre.items():\n",
    "            if c>n//3:\n",
    "                res.append(e)\n",
    "            if len(res)==2 and res[0]>res[1]:\n",
    "                res[0], res[1] =  res[1], res[0]\n",
    "        return res\n",
    "\n",
    "if __name__ == \"__main__\":\n",
    "    arr= list(map(int, input().split()))\n",
    "    s= Solution()\n",
    "    res= s.findMajority(arr)\n",
    "    for i in res:\n",
    "        print(i, end=\" \")\n"
   ]
  }
 ],
 "metadata": {
  "language_info": {
   "name": "python"
  }
 },
 "nbformat": 4,
 "nbformat_minor": 5
}
