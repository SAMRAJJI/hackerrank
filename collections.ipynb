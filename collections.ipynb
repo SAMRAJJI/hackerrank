{
 "cells": [
  {
   "cell_type": "code",
   "execution_count": 1,
   "metadata": {},
   "outputs": [
    {
     "name": "stdout",
     "output_type": "stream",
     "text": [
      "3 4 5\n",
      "('x', 'y', 'z')\n",
      "Point(x=6, y=4, z=5)\n"
     ]
    }
   ],
   "source": [
    "import collections\n",
    "from collections import namedtuple\n",
    "Point = namedtuple ('Point', {'x': 0, 'y': 0, 'z':0})\n",
    "newP = Point (3,4,5)\n",
    "print (newP.x, newP.y, newP.z)\n",
    "print (newP. _fields)\n",
    "newP = newP._replace (x=6)\n",
    "print (newP)\n",
    "p2 = Point. _make ([ 'a', 'b', 'c'])"
   ]
  }
 ],
 "metadata": {
  "kernelspec": {
   "display_name": "Python 3",
   "language": "python",
   "name": "python3"
  },
  "language_info": {
   "codemirror_mode": {
    "name": "ipython",
    "version": 3
   },
   "file_extension": ".py",
   "mimetype": "text/x-python",
   "name": "python",
   "nbconvert_exporter": "python",
   "pygments_lexer": "ipython3",
   "version": "3.8.0"
  }
 },
 "nbformat": 4,
 "nbformat_minor": 2
}
