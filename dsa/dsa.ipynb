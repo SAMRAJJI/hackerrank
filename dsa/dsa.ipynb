{
 "cells": [
  {
   "cell_type": "code",
   "execution_count": null,
   "id": "88ddf371",
   "metadata": {},
   "outputs": [],
   "source": [
    "def getMoneySpent(keyboards, drives, b):\n",
    "    val= -1\n",
    "    for i in keyboards:\n",
    "        for j in drives:\n",
    "            total= i+j\n",
    "            if total <=b and val< total:\n",
    "                val= total\n",
    "    return val"
   ]
  }
 ],
 "metadata": {
  "language_info": {
   "name": "python"
  }
 },
 "nbformat": 4,
 "nbformat_minor": 5
}
