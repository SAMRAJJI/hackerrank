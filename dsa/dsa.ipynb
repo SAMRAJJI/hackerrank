{
 "cells": [
  {
   "cell_type": "code",
   "execution_count": null,
   "id": "88ddf371",
   "metadata": {},
   "outputs": [],
   "source": [
    "def getMoneySpent(keyboards, drives, b):\n",
    "    val= -1\n",
    "    for i in keyboards:\n",
    "        for j in drives:\n",
    "            total= i+j\n",
    "            if total <=b and val< total:\n",
    "                val= total\n",
    "    return val"
   ]
  },
  {
   "cell_type": "code",
   "execution_count": null,
   "id": "f02359c3",
   "metadata": {},
   "outputs": [],
   "source": [
    "def pickingNumbers(a):\n",
    "    from collections import Counter\n",
    "    fre= Counter(a)\n",
    "    m=0\n",
    "    for n in fre:\n",
    "        current_length = fre[n] + fre.get(n+ 1, 0)\n",
    "        m = max(m, current_length)\n",
    "    return m\n",
    "        \n",
    "if __name__ == '__main__':\n",
    "    fptr = open(os.environ['OUTPUT_PATH'], 'w')\n",
    "\n",
    "    n = int(input().strip())\n",
    "\n",
    "    a = list(map(int, input().rstrip().split()))\n",
    "\n",
    "    result = pickingNumbers(a)"
   ]
  },
  {
   "cell_type": "code",
   "execution_count": null,
   "id": "471b8f8c",
   "metadata": {},
   "outputs": [],
   "source": [
    "def climbingLeaderboard(ranked, player):\n",
    "    unique_ranked = sorted(set(ranked), reverse=True)\n",
    "    result = []\n",
    "    n = len(unique_ranked)\n",
    "    index = n - 1  # Start from the end of the ranked list\n",
    "\n",
    "    for score in player:\n",
    "        # Move up the leaderboard while the player's score is higher or equal\n",
    "        while index >= 0 and score >= unique_ranked[index]:\n",
    "            index -= 1\n",
    "        result.append(index + 2)  # +2 because of zero-based index\n",
    "\n",
    "    return result\n",
    "if __name__ == '__main__':\n",
    "    fptr = open(os.environ['OUTPUT_PATH'], 'w')\n",
    "\n",
    "    ranked_count = int(input().strip())\n",
    "\n",
    "    ranked = list(map(int, input().rstrip().split()))\n",
    "\n",
    "    player_count = int(input().strip())\n",
    "\n",
    "    player = list(map(int, input().rstrip().split()))\n",
    "\n",
    "    result = climbingLeaderboard(ranked, player)"
   ]
  }
 ],
 "metadata": {
  "language_info": {
   "name": "python"
  }
 },
 "nbformat": 4,
 "nbformat_minor": 5
}
