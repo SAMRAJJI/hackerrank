{
 "cells": [
  {
   "cell_type": "code",
   "execution_count": null,
   "metadata": {
    "vscode": {
     "languageId": "plaintext"
    }
   },
   "outputs": [],
   "source": [
    "n = int(input())\n",
    "se={}\n",
    "\n",
    "for i in range(n):\n",
    "    a = str(input())\n",
    "    if a not in se:\n",
    "        se[a]= 1\n",
    "    else:\n",
    "        se[a]+=1\n",
    "print(len(se))\n",
    "print(*se.values())\n"
   ]
  },
  {
   "cell_type": "code",
   "execution_count": null,
   "metadata": {
    "vscode": {
     "languageId": "plaintext"
    }
   },
   "outputs": [],
   "source": [
    "from itertools import groupby\n",
    "a = input()\n",
    "result = [(len(list(j)),int(i)) for i, j in groupby(a)]\n",
    "print(*result) "
   ]
  },
  {
   "cell_type": "code",
   "execution_count": null,
   "metadata": {
    "vscode": {
     "languageId": "plaintext"
    }
   },
   "outputs": [],
   "source": [
    "input()\n",
    "a = input().split()\n",
    "h = set(input().split())\n",
    "s = set(input().split())\n",
    "print(sum(1 if x in h else -1 if x in s else 0 for x in a))"
   ]
  },
  {
   "cell_type": "code",
   "execution_count": null,
   "metadata": {
    "vscode": {
     "languageId": "plaintext"
    }
   },
   "outputs": [],
   "source": [
    "import operator\n",
    "\n",
    "def person_lister(f):\n",
    "    def inner(people):\n",
    "        people.sort(key=lambda x: int(x[2]))\n",
    "        return [f(person) for person in people]\n",
    "    return inner\n",
    "\n",
    "@person_lister\n",
    "def name_format(person):\n",
    "    return (\"Mr. \" if person[3] == \"M\" else \"Ms. \") + person[0] + \" \" + person[1]\n",
    "\n",
    "if __name__ == '__main__':\n",
    "    people = [input().split() for i in range(int(input()))]\n",
    "    print(*name_format(people), sep='\\n')"
   ]
  },
  {
   "cell_type": "code",
   "execution_count": null,
   "metadata": {
    "vscode": {
     "languageId": "plaintext"
    }
   },
   "outputs": [],
   "source": [
    "for i in range(1,int(input())+1):\n",
    "    print((10**i // 9)**2)\n"
   ]
  },
  {
   "cell_type": "code",
   "execution_count": null,
   "metadata": {
    "vscode": {
     "languageId": "plaintext"
    }
   },
   "outputs": [],
   "source": [
    "def merge_the_tools(string, k):\n",
    "   for i in range(0, len(string), k):\n",
    "        print(\"\".join(dict.fromkeys(string[i:i + k])))\n",
    "        \n",
    "    \n",
    "\n",
    "if __name__ == '__main__':\n",
    "    string, k = input(), int(input())\n",
    "    merge_the_tools(string, k)"
   ]
  },
  {
   "cell_type": "code",
   "execution_count": null,
   "metadata": {
    "vscode": {
     "languageId": "plaintext"
    }
   },
   "outputs": [],
   "source": [
    "import itertools\n",
    "N = int(input())\n",
    "cases = list(input().split())\n",
    "K = int(input())\n",
    "\n",
    "all_combinations = list(itertools.combinations(cases, K))\n",
    "\n",
    "valid_combinations = [combo for combo in all_combinations if 'a' in combo]\n",
    "\n",
    "prob_consist_a = len(valid_combinations) / len(all_combinations)\n",
    "print(prob_consist_a)"
   ]
  },
  {
   "cell_type": "code",
   "execution_count": null,
   "metadata": {
    "vscode": {
     "languageId": "plaintext"
    }
   },
   "outputs": [],
   "source": [
    "from fractions import Fraction\n",
    "from functools import reduce\n",
    "\n",
    "def product(fracs):\n",
    "    t = reduce(lambda x, y : x*y , fracs )\n",
    "    return t.numerator, t.denominator\n",
    "\n",
    "if __name__ == '__main__':\n",
    "    fracs = []\n",
    "    for _ in range(int(input())):\n",
    "        fracs.append(Fraction(*map(int, input().split())))\n",
    "    result = product(fracs)\n",
    "    print(*result)"
   ]
  },
  {
   "cell_type": "code",
   "execution_count": null,
   "metadata": {
    "vscode": {
     "languageId": "plaintext"
    }
   },
   "outputs": [],
   "source": [
    "import math\n",
    "\n",
    "class Complex(object):\n",
    "    def __init__(self, real, imaginary):\n",
    "        self.real = real\n",
    "        self.imaginary = imaginary\n",
    "        \n",
    "    def __add__(self, no):\n",
    "        return Complex(self.real + no.real, self.imaginary + no.imaginary)\n",
    "        \n",
    "    def __sub__(self, no):\n",
    "        return Complex(self.real - no.real, self.imaginary - no.imaginary)\n",
    "        \n",
    "    def __mul__(self, no):\n",
    "        real_part = (self.real * no.real) - (self.imaginary * no.imaginary)\n",
    "        imaginary_part = (self.real * no.imaginary) + (self.imaginary * no.real)\n",
    "        return Complex(real_part, imaginary_part)\n",
    "         \n",
    "    def __truediv__(self, no):\n",
    "        denominator = no.real**2 + no.imaginary**2\n",
    "        real_part = ((self.real * no.real) + (self.imaginary * no.imaginary)) / denominator\n",
    "        imaginary_part = ((self.imaginary * no.real) - (self.real * no.imaginary)) / denominator\n",
    "        return Complex(real_part, imaginary_part)\n",
    "        \n",
    "    def mod(self):\n",
    "        return Complex(math.sqrt(self.real**2 + self.imaginary**2), 0)\n",
    "        \n",
    "    def __str__(self):\n",
    "        if self.imaginary == 0:\n",
    "            return \"%.2f+0.00i\" % self.real\n",
    "        elif self.real == 0:\n",
    "            return \"0.00+%.2fi\" % self.imaginary if self.imaginary >= 0 else \"0.00-%.2fi\" % abs(self.imaginary)\n",
    "        else:\n",
    "            return \"%.2f+%.2fi\" % (self.real, self.imaginary) if self.imaginary >= 0 else \"%.2f-%.2fi\" % (self.real, abs(self.imaginary))\n",
    "\n",
    "if __name__ == '__main__':\n",
    "    c = map(float, input().split())\n",
    "    d = map(float, input().split())\n",
    "    x = Complex(*c)\n",
    "    y = Complex(*d)\n",
    "    \n",
    "    print(x + y)\n",
    "    print(x - y)\n",
    "    print(x * y)\n",
    "    print(x / y)\n",
    "    print(x.mod())\n",
    "    print(y.mod())\n"
   ]
  },
  {
   "cell_type": "code",
   "execution_count": null,
   "metadata": {
    "vscode": {
     "languageId": "plaintext"
    }
   },
   "outputs": [],
   "source": [
    "for i in range(int(input())):\n",
    "    l=int(input())\n",
    "    left,right=0,-1\n",
    "    ls=list(map(int,input().split()))\n",
    "    prev=0\n",
    "    for k in range(l):\n",
    "        ind=0\n",
    "        if ls[left]>ls[right]:\n",
    "            ind=left\n",
    "        elif ls[right]>ls[left]:\n",
    "            ind=right\n",
    "        else:\n",
    "            ind=left\n",
    "        if(ls[ind]<=prev) or (prev==0):\n",
    "            prev=ls[ind]\n",
    "            ls.pop(ind)     \n",
    "    if ls==[]:\n",
    "        print(\"Yes\")\n",
    "    else:\n",
    "        print(\"No\")"
   ]
  }
 ],
 "metadata": {
  "language_info": {
   "name": "python"
  }
 },
 "nbformat": 4,
 "nbformat_minor": 2
}
