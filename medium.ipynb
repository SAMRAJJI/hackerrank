{
 "cells": [
  {
   "cell_type": "code",
   "execution_count": null,
   "metadata": {
    "vscode": {
     "languageId": "plaintext"
    }
   },
   "outputs": [],
   "source": [
    "n = int(input())\n",
    "se={}\n",
    "\n",
    "for i in range(n):\n",
    "    a = str(input())\n",
    "    if a not in se:\n",
    "        se[a]= 1\n",
    "    else:\n",
    "        se[a]+=1\n",
    "print(len(se))\n",
    "print(*se.values())\n"
   ]
  },
  {
   "cell_type": "code",
   "execution_count": null,
   "metadata": {
    "vscode": {
     "languageId": "plaintext"
    }
   },
   "outputs": [],
   "source": [
    "from itertools import groupby\n",
    "a = input()\n",
    "result = [(len(list(j)),int(i)) for i, j in groupby(a)]\n",
    "print(*result) "
   ]
  }
 ],
 "metadata": {
  "language_info": {
   "name": "python"
  }
 },
 "nbformat": 4,
 "nbformat_minor": 2
}
