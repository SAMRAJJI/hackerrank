{
 "cells": [
  {
   "cell_type": "code",
   "execution_count": null,
   "metadata": {
    "vscode": {
     "languageId": "plaintext"
    }
   },
   "outputs": [],
   "source": [
    "n = int(input())\n",
    "se={}\n",
    "\n",
    "for i in range(n):\n",
    "    a = str(input())\n",
    "    if a not in se:\n",
    "        se[a]= 1\n",
    "    else:\n",
    "        se[a]+=1\n",
    "print(len(se))\n",
    "print(*se.values())\n"
   ]
  },
  {
   "cell_type": "code",
   "execution_count": null,
   "metadata": {
    "vscode": {
     "languageId": "plaintext"
    }
   },
   "outputs": [],
   "source": [
    "from itertools import groupby\n",
    "a = input()\n",
    "result = [(len(list(j)),int(i)) for i, j in groupby(a)]\n",
    "print(*result) "
   ]
  },
  {
   "cell_type": "code",
   "execution_count": null,
   "metadata": {
    "vscode": {
     "languageId": "plaintext"
    }
   },
   "outputs": [],
   "source": [
    "input()\n",
    "a = input().split()\n",
    "h = set(input().split())\n",
    "s = set(input().split())\n",
    "print(sum(1 if x in h else -1 if x in s else 0 for x in a))"
   ]
  },
  {
   "cell_type": "code",
   "execution_count": null,
   "metadata": {
    "vscode": {
     "languageId": "plaintext"
    }
   },
   "outputs": [],
   "source": [
    "import operator\n",
    "\n",
    "def person_lister(f):\n",
    "    def inner(people):\n",
    "        people.sort(key=lambda x: int(x[2]))\n",
    "        return [f(person) for person in people]\n",
    "    return inner\n",
    "\n",
    "@person_lister\n",
    "def name_format(person):\n",
    "    return (\"Mr. \" if person[3] == \"M\" else \"Ms. \") + person[0] + \" \" + person[1]\n",
    "\n",
    "if __name__ == '__main__':\n",
    "    people = [input().split() for i in range(int(input()))]\n",
    "    print(*name_format(people), sep='\\n')"
   ]
  },
  {
   "cell_type": "code",
   "execution_count": null,
   "metadata": {
    "vscode": {
     "languageId": "plaintext"
    }
   },
   "outputs": [],
   "source": [
    "for i in range(1,int(input())+1):\n",
    "    print((10**i // 9)**2)\n"
   ]
  },
  {
   "cell_type": "code",
   "execution_count": null,
   "metadata": {
    "vscode": {
     "languageId": "plaintext"
    }
   },
   "outputs": [],
   "source": [
    "def merge_the_tools(string, k):\n",
    "   for i in range(0, len(string), k):\n",
    "        print(\"\".join(dict.fromkeys(string[i:i + k])))\n",
    "        \n",
    "    \n",
    "\n",
    "if __name__ == '__main__':\n",
    "    string, k = input(), int(input())\n",
    "    merge_the_tools(string, k)"
   ]
  },
  {
   "cell_type": "code",
   "execution_count": null,
   "metadata": {
    "vscode": {
     "languageId": "plaintext"
    }
   },
   "outputs": [],
   "source": [
    "import itertools\n",
    "N = int(input())\n",
    "cases = list(input().split())\n",
    "K = int(input())\n",
    "\n",
    "all_combinations = list(itertools.combinations(cases, K))\n",
    "\n",
    "valid_combinations = [combo for combo in all_combinations if 'a' in combo]\n",
    "\n",
    "prob_consist_a = len(valid_combinations) / len(all_combinations)\n",
    "print(prob_consist_a)"
   ]
  },
  {
   "cell_type": "code",
   "execution_count": null,
   "metadata": {
    "vscode": {
     "languageId": "plaintext"
    }
   },
   "outputs": [],
   "source": [
    "from fractions import Fraction\n",
    "from functools import reduce\n",
    "\n",
    "def product(fracs):\n",
    "    t = reduce(lambda x, y : x*y , fracs )\n",
    "    return t.numerator, t.denominator\n",
    "\n",
    "if __name__ == '__main__':\n",
    "    fracs = []\n",
    "    for _ in range(int(input())):\n",
    "        fracs.append(Fraction(*map(int, input().split())))\n",
    "    result = product(fracs)\n",
    "    print(*result)"
   ]
  },
  {
   "cell_type": "code",
   "execution_count": null,
   "metadata": {
    "vscode": {
     "languageId": "plaintext"
    }
   },
   "outputs": [],
   "source": [
    "import math\n",
    "\n",
    "class Complex(object):\n",
    "    def __init__(self, real, imaginary):\n",
    "        self.real = real\n",
    "        self.imaginary = imaginary\n",
    "        \n",
    "    def __add__(self, no):\n",
    "        return Complex(self.real + no.real, self.imaginary + no.imaginary)\n",
    "        \n",
    "    def __sub__(self, no):\n",
    "        return Complex(self.real - no.real, self.imaginary - no.imaginary)\n",
    "        \n",
    "    def __mul__(self, no):\n",
    "        real_part = (self.real * no.real) - (self.imaginary * no.imaginary)\n",
    "        imaginary_part = (self.real * no.imaginary) + (self.imaginary * no.real)\n",
    "        return Complex(real_part, imaginary_part)\n",
    "         \n",
    "    def __truediv__(self, no):\n",
    "        denominator = no.real**2 + no.imaginary**2\n",
    "        real_part = ((self.real * no.real) + (self.imaginary * no.imaginary)) / denominator\n",
    "        imaginary_part = ((self.imaginary * no.real) - (self.real * no.imaginary)) / denominator\n",
    "        return Complex(real_part, imaginary_part)\n",
    "        \n",
    "    def mod(self):\n",
    "        return Complex(math.sqrt(self.real**2 + self.imaginary**2), 0)\n",
    "        \n",
    "    def __str__(self):\n",
    "        if self.imaginary == 0:\n",
    "            return \"%.2f+0.00i\" % self.real\n",
    "        elif self.real == 0:\n",
    "            return \"0.00+%.2fi\" % self.imaginary if self.imaginary >= 0 else \"0.00-%.2fi\" % abs(self.imaginary)\n",
    "        else:\n",
    "            return \"%.2f+%.2fi\" % (self.real, self.imaginary) if self.imaginary >= 0 else \"%.2f-%.2fi\" % (self.real, abs(self.imaginary))\n",
    "\n",
    "if __name__ == '__main__':\n",
    "    c = map(float, input().split())\n",
    "    d = map(float, input().split())\n",
    "    x = Complex(*c)\n",
    "    y = Complex(*d)\n",
    "    \n",
    "    print(x + y)\n",
    "    print(x - y)\n",
    "    print(x * y)\n",
    "    print(x / y)\n",
    "    print(x.mod())\n",
    "    print(y.mod())\n"
   ]
  },
  {
   "cell_type": "code",
   "execution_count": null,
   "metadata": {
    "vscode": {
     "languageId": "plaintext"
    }
   },
   "outputs": [],
   "source": [
    "for i in range(int(input())):\n",
    "    l=int(input())\n",
    "    left,right=0,-1\n",
    "    ls=list(map(int,input().split()))\n",
    "    prev=0\n",
    "    for k in range(l):\n",
    "        ind=0\n",
    "        if ls[left]>ls[right]:\n",
    "            ind=left\n",
    "        elif ls[right]>ls[left]:\n",
    "            ind=right\n",
    "        else:\n",
    "            ind=left\n",
    "        if(ls[ind]<=prev) or (prev==0):\n",
    "            prev=ls[ind]\n",
    "            ls.pop(ind)     \n",
    "    if ls==[]:\n",
    "        print(\"Yes\")\n",
    "    else:\n",
    "        print(\"No\")"
   ]
  },
  {
   "cell_type": "code",
   "execution_count": null,
   "metadata": {
    "vscode": {
     "languageId": "plaintext"
    }
   },
   "outputs": [],
   "source": [
    "def is_vowel(letter):\n",
    "    return letter in ['a', 'e', 'i', 'o', 'u', 'y']\n",
    "\n",
    "def score_words(words):\n",
    "    score = 0\n",
    "    for word in words:\n",
    "        num_vowels = 0\n",
    "        for letter in word:\n",
    "            if is_vowel(letter):\n",
    "                num_vowels += 1\n",
    "        if num_vowels % 2 == 0:\n",
    "            score += 2\n",
    "        else:\n",
    "            score +=1\n",
    "    return score\n",
    "\n",
    "\n",
    "n = int(input())\n",
    "words = input().split()\n",
    "print(score_words(words))"
   ]
  },
  {
   "cell_type": "code",
   "execution_count": null,
   "metadata": {
    "vscode": {
     "languageId": "plaintext"
    }
   },
   "outputs": [],
   "source": [
    "class EvenStream(object):\n",
    "    def __init__(self):\n",
    "        self.current = 0\n",
    "\n",
    "    def get_next(self):\n",
    "        to_return = self.current\n",
    "        self.current += 2\n",
    "        return to_return\n",
    "\n",
    "class OddStream(object):\n",
    "    def __init__(self):\n",
    "        self.current = 1\n",
    "\n",
    "    def get_next(self):\n",
    "        to_return = self.current\n",
    "        self.current += 2\n",
    "        return to_return\n",
    "\n",
    "def print_from_stream(n, stream=None):\n",
    "    if stream is None:\n",
    "        stream=EvenStream()\n",
    "    for _ in range(n):\n",
    "        print(stream.get_next())\n",
    "\n",
    "\n",
    "queries = int(input())\n",
    "for _ in range(queries):\n",
    "    stream_name, n = input().split()\n",
    "    n = int(n)\n",
    "    if stream_name == \"even\":\n",
    "        print_from_stream(n)\n",
    "    else:\n",
    "        print_from_stream(n, OddStream())"
   ]
  },
  {
   "cell_type": "code",
   "execution_count": null,
   "metadata": {
    "vscode": {
     "languageId": "plaintext"
    }
   },
   "outputs": [],
   "source": [
    "s = input()\n",
    "def sorting_function(c: str):\n",
    "    if c.islower():\n",
    "        return ord(c)\n",
    "    if c.isupper():\n",
    "        return ord(c) + 200\n",
    "    c = int(c)\n",
    "    if c % 2:\n",
    "        return 400 + c\n",
    "    return 600 + c\n",
    "print(\"\".join(sorted(s, key=sorting_function)))\n"
   ]
  },
  {
   "cell_type": "code",
   "execution_count": null,
   "metadata": {
    "vscode": {
     "languageId": "plaintext"
    }
   },
   "outputs": [],
   "source": [
    "import math\n",
    "import os\n",
    "import random\n",
    "import re\n",
    "import sys\n",
    "from collections import Counter\n",
    "\n",
    "\n",
    "if __name__ == '__main__':\n",
    "    s = input()\n",
    "    counter = Counter(sorted(s))\n",
    "    for letter in counter.most_common(3):\n",
    "        print(*letter)"
   ]
<<<<<<< HEAD
=======
  },
  {
   "cell_type": "code",
   "execution_count": null,
   "metadata": {
    "vscode": {
     "languageId": "plaintext"
    }
   },
   "outputs": [],
   "source": [
    "import re\n",
    "\n",
    "def is_valid_card(card_number):\n",
    "    # Remove spaces or hyphens\n",
    "    clean_number = card_number.replace(\" \", \"\").replace(\"-\", \"\")\n",
    "    # Check if it starts with 4, 5, or 6 and has exactly 16 digits\n",
    "    if not re.fullmatch(r\"[456]\\d{15}\", clean_number):\n",
    "        return \"Invalid\"\n",
    "    # Ensure no four or more consecutive repeated digits\n",
    "    if re.search(r\"(\\d)\\1{3,}\", clean_number):\n",
    "        return \"Invalid\"\n",
    "    # Ensure proper formatting: either continuous 16 digits or grouped as 4-4-4-4\n",
    "    if re.fullmatch(r\"(\\d{4}[- ]){3}\\d{4}\", card_number) or card_number.isdigit():\n",
    "        return \"Valid\"\n",
    "    return \"Invalid\"\n",
    "\n",
    "a = int(input())\n",
    "\n",
    "for _ in range(a):\n",
    "    print(is_valid_card(input()))\n"
   ]
  },
  {
   "cell_type": "code",
   "execution_count": null,
   "metadata": {
    "vscode": {
     "languageId": "plaintext"
    }
   },
   "outputs": [],
   "source": [
    "from collections import Counter\n",
    "vowels = \"AEIOU\"\n",
    "def minion_game(txt):\n",
    "    length = len(txt)\n",
    "    score = Counter()\n",
    "    for i, ch in enumerate(txt):\n",
    "        points = length - i\n",
    "        score[ch in vowels] += points  \n",
    "    # print(score)\n",
    "    \n",
    "    if (kevin := score[True]) > (stuart := score[False]):\n",
    "        print(f\"Kevin {kevin}\")\n",
    "    elif stuart > kevin:\n",
    "        print(f\"Stuart {stuart}\")\n",
    "    else:\n",
    "        print(\"Draw\")\n",
    "            \n",
    "# Input (stdin)\n",
    "# BANANA\n",
    "# Expected Output\n",
    "# Stuart 12\n",
    "    \n",
    "\n",
    "if __name__ == '__main__':\n",
    "    s = input()\n",
    "    minion_game(s)"
   ]
>>>>>>> 0c2e1a7e01658385336792b6128423c357a0cb19
  }
 ],
 "metadata": {
  "language_info": {
   "name": "python"
  }
 },
 "nbformat": 4,
 "nbformat_minor": 2
}
