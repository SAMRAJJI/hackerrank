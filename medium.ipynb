{
 "cells": [
  {
   "cell_type": "code",
   "execution_count": null,
   "metadata": {
    "vscode": {
     "languageId": "plaintext"
    }
   },
   "outputs": [],
   "source": [
    "n = int(input())\n",
    "se={}\n",
    "\n",
    "for i in range(n):\n",
    "    a = str(input())\n",
    "    if a not in se:\n",
    "        se[a]= 1\n",
    "    else:\n",
    "        se[a]+=1\n",
    "print(len(se))\n",
    "print(*se.values())\n"
   ]
  }
 ],
 "metadata": {
  "language_info": {
   "name": "python"
  }
 },
 "nbformat": 4,
 "nbformat_minor": 2
}
