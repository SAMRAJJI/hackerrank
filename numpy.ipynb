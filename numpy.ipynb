{
 "cells": [
  {
   "cell_type": "code",
   "execution_count": null,
   "metadata": {
    "vscode": {
     "languageId": "plaintext"
    }
   },
   "outputs": [],
   "source": [
    "import numpy \n",
    "\n",
    "a= list(map(int, input().split()))\n",
    "b= numpy.array(a)\n",
    "reshape= b.reshape(3,3)\n",
    "print(reshape)"
   ]
  },
  {
   "cell_type": "code",
   "execution_count": null,
   "metadata": {
    "vscode": {
     "languageId": "plaintext"
    }
   },
   "outputs": [],
   "source": [
    "import numpy as np\n",
    "a , b = input().split()\n",
    "a=int(a)\n",
    "b=int(b)\n",
    "arr=[]\n",
    "for _ in range(a):\n",
    "    r = list(map(int, input().split()))\n",
    "    arr.append(r)\n",
    "my_array = np.array(arr)\n",
    "\n",
    "minarr = np.min(my_array, axis=1)\n",
    "maxarr= np.max(minarr)\n",
    "print(maxarr)\n",
    "    "
   ]
  },
  {
   "cell_type": "code",
   "execution_count": null,
   "metadata": {
    "vscode": {
     "languageId": "plaintext"
    }
   },
   "outputs": [],
   "source": [
    "import numpy as np\n",
    "n, m, p = input().split()\n",
    "n=int(n)\n",
    "m=int(m)\n",
    "p=int(p)\n",
    "lis=[]\n",
    "for _ in range(n):\n",
    "    list1=list(map(int, input().split()))\n",
    "    lis.append(list1)\n",
    "lis2=[]\n",
    "for _ in range(m):\n",
    "    list1=list(map(int, input().split()))\n",
    "    lis2.append(list1)\n",
    "\n",
    "array1= np.array(lis)\n",
    "array2= np.array(lis2)\n",
    "print(np.concatenate((array1, array2)))\n",
    "    "
   ]
  }
 ],
 "metadata": {
  "language_info": {
   "name": "python"
  }
 },
 "nbformat": 4,
 "nbformat_minor": 2
}
