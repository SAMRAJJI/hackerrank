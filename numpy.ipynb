{
 "cells": [
  {
   "cell_type": "code",
   "execution_count": null,
   "metadata": {
    "vscode": {
     "languageId": "plaintext"
    }
   },
   "outputs": [],
   "source": [
    "import numpy \n",
    "\n",
    "a= list(map(int, input().split()))\n",
    "b= numpy.array(a)\n",
    "reshape= b.reshape(3,3)\n",
    "print(reshape)"
   ]
  },
  {
   "cell_type": "code",
   "execution_count": null,
   "metadata": {
    "vscode": {
     "languageId": "plaintext"
    }
   },
   "outputs": [],
   "source": [
    "import numpy as np\n",
    "a , b = input().split()\n",
    "a=int(a)\n",
    "b=int(b)\n",
    "arr=[]\n",
    "for _ in range(a):\n",
    "    r = list(map(int, input().split()))\n",
    "    arr.append(r)\n",
    "my_array = np.array(arr)\n",
    "\n",
    "minarr = np.min(my_array, axis=1)\n",
    "maxarr= np.max(minarr)\n",
    "print(maxarr)\n",
    "    "
   ]
  },
  {
   "cell_type": "code",
   "execution_count": null,
   "metadata": {
    "vscode": {
     "languageId": "plaintext"
    }
   },
   "outputs": [],
   "source": [
    "import numpy as np\n",
    "n, m, p = input().split()\n",
    "n=int(n)\n",
    "m=int(m)\n",
    "p=int(p)\n",
    "lis=[]\n",
    "for _ in range(n):\n",
    "    list1=list(map(int, input().split()))\n",
    "    lis.append(list1)\n",
    "lis2=[]\n",
    "for _ in range(m):\n",
    "    list1=list(map(int, input().split()))\n",
    "    lis2.append(list1)\n",
    "\n",
    "array1= np.array(lis)\n",
    "array2= np.array(lis2)\n",
    "print(np.concatenate((array1, array2)))\n",
    "    "
   ]
  },
  {
   "cell_type": "code",
   "execution_count": null,
   "metadata": {
    "vscode": {
     "languageId": "plaintext"
    }
   },
   "outputs": [],
   "source": [
    "import numpy as np\n",
    "\n",
    "# Read dimensions\n",
    "n, m = map(int, input().split())\n",
    "\n",
    "list1=[]\n",
    "for _ in range(n):\n",
    "    a=list(map(int, input().split()))\n",
    "    list1.append(a)\n",
    "    \n",
    "my_array= np.array(list1)\n",
    "\n",
    "print(np.mean(my_array, axis=1))\n",
    "print(np.var(my_array, axis=0))\n",
    "print(f\"{np.std(my_array):.11f}\")"
   ]
  },
  {
   "cell_type": "code",
   "execution_count": null,
   "metadata": {
    "vscode": {
     "languageId": "plaintext"
    }
   },
   "outputs": [],
   "source": [
    "import sys, numpy\n",
    "\n",
    "size = ([int(digit) for digit in sys.stdin.read().replace(' ', '')])\n",
    "\n",
    "print(numpy.zeros(size, int), numpy.ones(size, int), sep='\\n')"
   ]
  },
  {
   "cell_type": "code",
   "execution_count": null,
   "metadata": {
    "vscode": {
     "languageId": "plaintext"
    }
   },
   "outputs": [],
   "source": [
    "import numpy as np\n",
    "\n",
    "n, m = map(int, input().split())\n",
    "mylist=[list(map(int, input().split())) for _ in range(n)]\n",
    "    \n",
    "my_array=np.array(mylist)\n",
    "\n",
    "my_array_sum = np.sum(my_array, axis=0)\n",
    "print(np.prod(my_array_sum))"
   ]
  },
  {
   "cell_type": "code",
   "execution_count": null,
   "metadata": {
    "vscode": {
     "languageId": "plaintext"
    }
   },
   "outputs": [],
   "source": [
    "import numpy as np\n",
    "\n",
    "n = int(input())\n",
    "a=np.array([list(map(int, input().split())) for _ in range(n)])\n",
    "b=np.array([list(map(int, input().split())) for _ in range(n)])\n",
    "\n",
    "print(np.dot(a, b))"
   ]
  },
  {
   "cell_type": "code",
   "execution_count": null,
   "metadata": {
    "vscode": {
     "languageId": "plaintext"
    }
   },
   "outputs": [],
   "source": [
    "import numpy\n",
    "\n",
    "\n",
    "A = numpy.array(list(map(int, input().split())))\n",
    "B = numpy.array(list(map(int, input().split())))\n",
    "\n",
    "print (numpy.inner(A, B))\n",
    "print (numpy.outer(A, B))"
   ]
  },
  {
   "cell_type": "code",
   "execution_count": null,
   "metadata": {
    "vscode": {
     "languageId": "plaintext"
    }
   },
   "outputs": [],
   "source": [
    "import numpy\n",
    "n, m = map(int, input().split())\n",
    "\n",
    "A = numpy.array([list(map(int, input().split())) for _ in range(n)])\n",
    "B = numpy.array([list(map(int, input().split())) for _ in range(n)])\n",
    "\n",
    "print(numpy.add(A, B))\n",
    "print(numpy.subtract(A, B))\n",
    "print(numpy.multiply(A, B))\n",
    "print(numpy.floor_divide(A, B))\n",
    "print(numpy.mod(A, B))\n",
    "print(numpy.power(A, B))"
   ]
  },
  {
   "cell_type": "code",
   "execution_count": null,
   "metadata": {
    "vscode": {
     "languageId": "plaintext"
    }
   },
   "outputs": [],
   "source": [
    "import numpy as np\n",
    "\n",
    "n = int(input())\n",
    "lis1=[]\n",
    "for _ in range(n):\n",
    "    lis=list(map(float, input().split()))\n",
    "    lis1.append(lis)\n",
    "\n",
    "print(round(np.linalg.det(lis1), 2))\n"
   ]
  },
  {
   "cell_type": "code",
   "execution_count": null,
   "metadata": {
    "vscode": {
     "languageId": "plaintext"
    }
   },
   "outputs": [],
   "source": [
    "import numpy as np\n",
    "\n",
    "n, m = map(int, input().split())\n",
    "lis=[]\n",
    "for i in range(n):\n",
    "    lis1=list(map(int, input().split()))\n",
    "    lis.append(lis1)\n",
    "\n",
    "my_array = np.array(lis)\n",
    "print(np.transpose(my_array))\n",
    "print(my_array.flatten())"
   ]
  },
  {
   "cell_type": "code",
   "execution_count": null,
   "metadata": {
    "vscode": {
     "languageId": "plaintext"
    }
   },
   "outputs": [],
   "source": [
    "import numpy as np \n",
    "\n",
    "N,M = map(int, input().split())\n",
    "\n",
    "input_list = []\n",
    "\n",
    "for i in range(N):\n",
    "    input_list.append(list(map(int, input().split())))\n",
    " \n",
    "np_input_list = np.array(input_list, dtype=int)   \n",
    "\n",
    "print(np.mean(np_input_list, axis = 1))\n",
    "print(np.var(np_input_list,  axis = 0))\n",
    "print(round(np.std(np_input_list),11))"
   ]
  }
 ],
 "metadata": {
  "language_info": {
   "name": "python"
  }
 },
 "nbformat": 4,
 "nbformat_minor": 2
}
