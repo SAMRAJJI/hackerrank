{
 "cells": [
  {
   "cell_type": "code",
   "execution_count": null,
   "metadata": {
    "vscode": {
     "languageId": "plaintext"
    }
   },
   "outputs": [],
   "source": [
    "#!/bin/python3\n",
    "from datetime import datetime\n",
    "import math\n",
    "import os\n",
    "import random\n",
    "import re\n",
    "import sys\n",
    "\n",
    "# Complete the time_delta function below.\n",
    "def time_delta(t1, t2):\n",
    "    # Define the date format\n",
    "    date_format = \"%a %d %b %Y %H:%M:%S %z\"\n",
    "    \n",
    "    # Parse the input strings into datetime objects\n",
    "    dt1 = datetime.strptime(t1, date_format)\n",
    "    dt2 = datetime.strptime(t2, date_format)\n",
    "    \n",
    "    # Calculate the absolute difference in seconds\n",
    "    delta = abs((dt1 - dt2).total_seconds())\n",
    "    \n",
    "    # Return the result as a string\n",
    "    return str(int(delta))\n",
    "\n",
    "if __name__ == '__main__':\n",
    "    fptr = open(os.environ['OUTPUT_PATH'], 'w')\n",
    "\n",
    "    t = int(input())\n",
    "\n",
    "    for t_itr in range(t):\n",
    "        t1 = input()\n",
    "\n",
    "        t2 = input()\n",
    "\n",
    "        delta = time_delta(t1, t2)\n",
    "\n",
    "        fptr.write(delta + '\\n')\n",
    "\n",
    "    fptr.close()\n"
   ]
  }
 ],
 "metadata": {
  "language_info": {
   "name": "python"
  }
 },
 "nbformat": 4,
 "nbformat_minor": 2
}
