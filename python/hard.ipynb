{
 "cells": [
  {
   "cell_type": "code",
   "execution_count": null,
   "metadata": {
    "vscode": {
     "languageId": "plaintext"
    }
   },
   "outputs": [],
   "source": [
    "from itertools import product\n",
    "\n",
    "k, m = map(int, input().split())\n",
    "max_value =0\n",
    "lis=[]\n",
    "for i in range(k):\n",
    "    lis.append(list(map(lambda x: int(x) ** 2, input().split()[1:])))\n",
    "    \n",
    "for i in product(*lis):\n",
    "    if max_value < (sum(i) % m):\n",
    "        max_value = sum(i) % m\n",
    "print(max_value)\n"
   ]
  }
 ],
 "metadata": {
  "language_info": {
   "name": "python"
  }
 },
 "nbformat": 4,
 "nbformat_minor": 2
}
