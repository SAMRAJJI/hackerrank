{
 "cells": [
  {
   "cell_type": "code",
   "execution_count": null,
   "metadata": {},
   "outputs": [],
   "source": [
    "import re\n",
    "a = int(input())\n",
    "for _ in range(a):\n",
    "    b=input()\n",
    "    try:\n",
    "        pattern = re.compile(f\"^{b}$\")\n",
    "        print(True)\n",
    "    except re.error:\n",
    "        print(False)"
   ]
  },
  {
   "cell_type": "code",
   "execution_count": null,
   "metadata": {},
   "outputs": [],
   "source": [
    "import re\n",
    "\n",
    "s=input()\n",
    "\n",
    "match =re.search(r'([a-zA-Z0-9])\\1', s)\n",
    "\n",
    "if match:\n",
    "    print(match.group(1))\n",
    "else:\n",
    "    print(-1)"
   ]
  },
  {
   "cell_type": "code",
   "execution_count": 2,
   "metadata": {},
   "outputs": [
    {
     "name": "stdout",
     "output_type": "stream",
     "text": [
      "[[2 5]\n",
      " [3 7]\n",
      " [1 3]\n",
      " [4 0]]\n"
     ]
    }
   ],
   "source": [
    "import numpy\n",
    "\n",
    "my_array = numpy.array([[2, 5], \n",
    "                        [3, 7],\n",
    "                        [1, 3],\n",
    "                        [4, 0]])\n",
    "print(my_array)"
   ]
  },
  {
   "cell_type": "code",
   "execution_count": null,
   "metadata": {},
   "outputs": [],
   "source": [
    "import re\n",
    "a = int(input())\n",
    "for _ in range(a):\n",
    "    number= input()\n",
    "    pattern = r'^[789]\\d{9}$'\n",
    "    if re.match(pattern, number):\n",
    "        print(\"YES\")\n",
    "    else:\n",
    "        print(\"NO\")"
   ]
  },
  {
   "cell_type": "code",
   "execution_count": null,
   "metadata": {},
   "outputs": [],
   "source": [
    "import re\n",
    "\n",
    "def validate_uid(uid):\n",
    "    return (\"Valid\" if (\n",
    "        len(uid) == 10 and\n",
    "        uid.isalnum() and\n",
    "        len(set(uid)) == len(uid) and\n",
    "        sum(ch.isupper() for ch in uid) >= 2 and\n",
    "        sum(ch.isdigit() for ch in uid) >= 3\n",
    "    ) else \"Invalid\")\n",
    "\n",
    "# Input handling\n",
    "n = int(input())\n",
    "uids = [input().strip() for _ in range(n)]\n",
    "\n",
    "# Output results\n",
    "print(*map(validate_uid, uids), sep=\"\\n\")\n"
   ]
  },
  {
   "cell_type": "code",
   "execution_count": null,
   "metadata": {},
   "outputs": [],
   "source": [
    "import re\n",
    "def fun(s):\n",
    "    # return True if s is a valid email, else return False\n",
    "    pattern = r\"^[\\w-]+@[a-zA-Z0-9]+\\.[a-zA-Z]{1,3}$\"\n",
    "    if re.match(pattern, s) is None:\n",
    "        return False\n",
    "    else:\n",
    "        return True\n",
    "\n",
    "def filter_mail(emails):\n",
    "    return list(filter(fun, emails))\n",
    "\n",
    "if __name__ == '__main__':\n",
    "    n = int(input())\n",
    "    emails = []\n",
    "    for _ in range(n):\n",
    "        emails.append(input())\n",
    "\n",
    "filtered_emails = filter_mail(emails)\n",
    "filtered_emails.sort()\n",
    "print(filtered_emails)"
   ]
  },
  {
   "cell_type": "code",
   "execution_count": null,
   "metadata": {},
   "outputs": [],
   "source": [
    "regex_pattern = r\"[,.]\"\t# Do not delete 'r'.\n",
    "\n",
    "import re\n",
    "print(\"\\n\".join(re.split(regex_pattern, input())))"
   ]
  },
  {
   "cell_type": "code",
   "execution_count": null,
   "metadata": {},
   "outputs": [],
   "source": [
    "import re\n",
    "s = input()\n",
    "vowels = \"aeiouAEIOU\"\n",
    "consonants = \"qwrtypsdfghjklzxcvbnmQWRTYPSDFGHJKLZXCVBNM\"\n",
    "pattern = r'(?<=['+consonants+'])(['+vowels+']{2,})(?=['+consonants+'])'\n",
    "matches = re.findall(pattern, s)\n",
    "if matches:\n",
    "    for match in matches:\n",
    "        print(match)\n",
    "else:\n",
    "    print(-1)"
   ]
  }
 ],
 "metadata": {
  "kernelspec": {
   "display_name": "Python 3",
   "language": "python",
   "name": "python3"
  },
  "language_info": {
   "codemirror_mode": {
    "name": "ipython",
    "version": 3
   },
   "file_extension": ".py",
   "mimetype": "text/x-python",
   "name": "python",
   "nbconvert_exporter": "python",
   "pygments_lexer": "ipython3",
   "version": "3.8.0"
  }
 },
 "nbformat": 4,
 "nbformat_minor": 2
}
