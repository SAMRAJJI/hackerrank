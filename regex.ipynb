{
 "cells": [
  {
   "cell_type": "code",
   "execution_count": null,
   "metadata": {},
   "outputs": [],
   "source": [
    "import re\n",
    "a = int(input())\n",
    "for _ in range(a):\n",
    "    b=input()\n",
    "    try:\n",
    "        pattern = re.compile(f\"^{b}$\")\n",
    "        print(True)\n",
    "    except re.error:\n",
    "        print(False)"
   ]
  },
  {
   "cell_type": "code",
   "execution_count": null,
   "metadata": {},
   "outputs": [],
   "source": [
    "import re\n",
    "\n",
    "s=input()\n",
    "\n",
    "match =re.search(r'([a-zA-Z0-9])\\1', s)\n",
    "\n",
    "if match:\n",
    "    print(match.group(1))\n",
    "else:\n",
    "    print(-1)"
   ]
  },
  {
   "cell_type": "code",
   "execution_count": 2,
   "metadata": {},
   "outputs": [
    {
     "name": "stdout",
     "output_type": "stream",
     "text": [
      "[[2 5]\n",
      " [3 7]\n",
      " [1 3]\n",
      " [4 0]]\n"
     ]
    }
   ],
   "source": [
    "import numpy\n",
    "\n",
    "my_array = numpy.array([[2, 5], \n",
    "                        [3, 7],\n",
    "                        [1, 3],\n",
    "                        [4, 0]])\n",
    "print(my_array)"
   ]
  },
  {
   "cell_type": "code",
   "execution_count": null,
   "metadata": {},
   "outputs": [],
   "source": [
    "import re\n",
    "a = int(input())\n",
    "for _ in range(a):\n",
    "    number= input()\n",
    "    pattern = r'^[789]\\d{9}$'\n",
    "    if re.match(pattern, number):\n",
    "        print(\"YES\")\n",
    "    else:\n",
    "        print(\"NO\")"
   ]
  },
  {
   "cell_type": "code",
   "execution_count": null,
   "metadata": {},
   "outputs": [],
   "source": [
    "import re\n",
    "\n",
    "def validate_uid(uid):\n",
    "    return (\"Valid\" if (\n",
    "        len(uid) == 10 and\n",
    "        uid.isalnum() and\n",
    "        len(set(uid)) == len(uid) and\n",
    "        sum(ch.isupper() for ch in uid) >= 2 and\n",
    "        sum(ch.isdigit() for ch in uid) >= 3\n",
    "    ) else \"Invalid\")\n",
    "\n",
    "# Input handling\n",
    "n = int(input())\n",
    "uids = [input().strip() for _ in range(n)]\n",
    "\n",
    "# Output results\n",
    "print(*map(validate_uid, uids), sep=\"\\n\")\n"
   ]
  },
  {
   "cell_type": "code",
   "execution_count": null,
   "metadata": {},
   "outputs": [],
   "source": [
    "import re\n",
    "def fun(s):\n",
    "    # return True if s is a valid email, else return False\n",
    "    pattern = r\"^[\\w-]+@[a-zA-Z0-9]+\\.[a-zA-Z]{1,3}$\"\n",
    "    if re.match(pattern, s) is None:\n",
    "        return False\n",
    "    else:\n",
    "        return True\n",
    "\n",
    "def filter_mail(emails):\n",
    "    return list(filter(fun, emails))\n",
    "\n",
    "if __name__ == '__main__':\n",
    "    n = int(input())\n",
    "    emails = []\n",
    "    for _ in range(n):\n",
    "        emails.append(input())\n",
    "\n",
    "filtered_emails = filter_mail(emails)\n",
    "filtered_emails.sort()\n",
    "print(filtered_emails)"
   ]
  },
  {
   "cell_type": "code",
   "execution_count": null,
   "metadata": {},
   "outputs": [],
   "source": [
    "regex_pattern = r\"[,.]\"\t# Do not delete 'r'.\n",
    "\n",
    "import re\n",
    "print(\"\\n\".join(re.split(regex_pattern, input())))"
   ]
  },
  {
   "cell_type": "code",
   "execution_count": null,
   "metadata": {},
   "outputs": [],
   "source": [
    "import re\n",
    "s = input()\n",
    "vowels = \"aeiouAEIOU\"\n",
    "consonants = \"qwrtypsdfghjklzxcvbnmQWRTYPSDFGHJKLZXCVBNM\"\n",
    "pattern = r'(?<=['+consonants+'])(['+vowels+']{2,})(?=['+consonants+'])'\n",
    "matches = re.findall(pattern, s)\n",
    "if matches:\n",
    "    for match in matches:\n",
    "        print(match)\n",
    "else:\n",
    "    print(-1)"
   ]
  },
  {
   "cell_type": "code",
   "execution_count": null,
   "metadata": {},
   "outputs": [],
   "source": [
    "regex_pattern = r\"^M{0,3}(CM|CD|D?C{0,3})(XC|XL|L?X{0,3})(IX|IV|V?I{0,3})$\"\n",
    "\n",
    "import re\n",
    "print(str(bool(re.match(regex_pattern, input()))))"
   ]
  },
  {
   "cell_type": "code",
   "execution_count": null,
   "metadata": {},
   "outputs": [],
   "source": [
    "import re \n",
    "import email.utils as email \n",
    "\n",
    "n = int(input())\n",
    "\n",
    "r = re.compile(r'^[a-z](\\w|-|\\.)*@[a-z]+\\.[a-z]{1,3}$')\n",
    "\n",
    "for i in range(n):\n",
    "    name,mail = email.parseaddr(input())\n",
    "    \n",
    "    if r.match(mail):\n",
    "        print(email.formataddr((name,mail)))"
   ]
  },
  {
   "cell_type": "code",
   "execution_count": null,
   "metadata": {},
   "outputs": [],
   "source": [
    "import sys, re\n",
    "\n",
    "text = sys.stdin.read().splitlines()[1:]\n",
    "HEX_pattern = r\"[#][0-9a-f]{3,6}\"\n",
    "\n",
    "index_list = []\n",
    "line_list = []\n",
    "match = ''\n",
    "\n",
    "i = 0 \n",
    "for line in text:\n",
    "    if not re.search(r\"^(#|{|})\", line): \n",
    "            index_list.append(i)\n",
    "    i+=1\n",
    "\n",
    "for index in index_list:\n",
    "    line_list.append(text[index])\n",
    "\n",
    "match ='\\n'.join(re.findall(HEX_pattern, ''.join(line_list), flags=re.I))\n",
    "print(match)"
   ]
  },
  {
   "cell_type": "code",
   "execution_count": null,
   "metadata": {},
   "outputs": [],
   "source": [
    "import re\n",
    "\n",
    "n = int(input())\n",
    "pattern = r'(?<= )(&{2}|\\|{2})(?= )'\n",
    "for _ in range(n):\n",
    "    print(re.sub(pattern, lambda x: 'and' if x.group() == '&&' else 'or', input()))"
   ]
  },
  {
   "cell_type": "code",
   "execution_count": null,
   "metadata": {},
   "outputs": [],
   "source": [
    "regex_integer_in_range = r\"^[1-9][0-9]{5}$\"\t# Do not delete 'r'.\n",
    "regex_alternating_repetitive_digit_pair = r\"(?=(.).\\1)\"\n",
    "\n",
    "import re\n",
    "P = input()\n",
    "\n",
    "print (bool(re.match(regex_integer_in_range, P)) \n",
    "and len(re.findall(regex_alternating_repetitive_digit_pair, P)) < 2)"
   ]
  },
  {
   "cell_type": "code",
   "execution_count": null,
   "metadata": {},
   "outputs": [],
   "source": [
    "#!/bin/python3\n",
    "\n",
    "import math\n",
    "import os\n",
    "import random\n",
    "import re\n",
    "import sys\n",
    "\n",
    "\n",
    "\n",
    "\n",
    "first_multiple_input = input().rstrip().split()\n",
    "\n",
    "n = int(first_multiple_input[0])\n",
    "\n",
    "m = int(first_multiple_input[1])\n",
    "\n",
    "matrix = []\n",
    "\n",
    "for _ in range(n):\n",
    "    matrix_item = input()\n",
    "    matrix.append(matrix_item)\n",
    "\n",
    "decoded = \"\"\n",
    "\n",
    "for M in range(m):\n",
    "    for N in range(n):\n",
    "        decoded +=matrix[N][M]\n",
    "\n",
    "clean = re.sub(r'(?<=[A-Za-z0-9])[^A-Za-z0-9]+(?=[A-Za-z0-9])', ' ', decoded)\n",
    "\n",
    "print(clean)"
   ]
  }
 ],
 "metadata": {
  "kernelspec": {
   "display_name": "Python 3",
   "language": "python",
   "name": "python3"
  },
  "language_info": {
   "codemirror_mode": {
    "name": "ipython",
    "version": 3
   },
   "file_extension": ".py",
   "mimetype": "text/x-python",
   "name": "python",
   "nbconvert_exporter": "python",
   "pygments_lexer": "ipython3",
   "version": "3.8.0"
  }
 },
 "nbformat": 4,
 "nbformat_minor": 2
}
