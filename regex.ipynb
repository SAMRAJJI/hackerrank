{
 "cells": [
  {
   "cell_type": "code",
   "execution_count": null,
   "metadata": {
    "vscode": {
     "languageId": "plaintext"
    }
   },
   "outputs": [],
   "source": [
    "import re\n",
    "a = int(input())\n",
    "for _ in range(a):\n",
    "    b=input()\n",
    "    try:\n",
    "        pattern = re.compile(f\"^{b}$\")\n",
    "        print(True)\n",
    "    except re.error:\n",
    "        print(False)"
   ]
  }
 ],
 "metadata": {
  "language_info": {
   "name": "python"
  }
 },
 "nbformat": 4,
 "nbformat_minor": 2
}
