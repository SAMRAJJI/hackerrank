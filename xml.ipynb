{
 "cells": [
  {
   "cell_type": "code",
   "execution_count": null,
   "metadata": {
    "vscode": {
     "languageId": "plaintext"
    }
   },
   "outputs": [],
   "source": [
    "import sys\n",
    "import xml.etree.ElementTree as etree\n",
    "\n",
    "def get_attr_number(node):\n",
    "    total = len(node.attrib)\n",
    "    for child in node:\n",
    "        total += get_attr_number(child)\n",
    "    return total\n",
    "if __name__ == '__main__':\n",
    "    sys.stdin.readline()\n",
    "    xml = sys.stdin.read()\n",
    "    tree = etree.ElementTree(etree.fromstring(xml))\n",
    "    root = tree.getroot()\n",
    "    print(get_attr_number(root))"
   ]
  },
  {
   "cell_type": "code",
   "execution_count": null,
   "metadata": {
    "vscode": {
     "languageId": "plaintext"
    }
   },
   "outputs": [],
   "source": [
    "from html.parser import HTMLParser\n",
    "\n",
    "class MyHTMLParser(HTMLParser):\n",
    "    def handle_starttag(self, tag, attrs):\n",
    "        print(f\"Start : {tag}\")\n",
    "        for attr in attrs:\n",
    "            print(f\"-> {attr[0]} > {attr[1] if attr[1] else 'None'}\")\n",
    "\n",
    "    def handle_endtag(self, tag):\n",
    "        print(f\"End   : {tag}\")\n",
    "\n",
    "    def handle_startendtag(self, tag, attrs):\n",
    "        print(f\"Empty : {tag}\")\n",
    "        for attr in attrs:\n",
    "            print(f\"-> {attr[0]} > {attr[1] if attr[1] else 'None'}\")\n",
    "\n",
    "# Create an instance of the parser\n",
    "parser = MyHTMLParser()\n",
    "\n",
    "# Read input\n",
    "a = int(input())  # Number of lines\n",
    "lis = [input() for _ in range(a)]  # Store all inputs in a list\n",
    "\n",
    "# Process each line using the parser\n",
    "for i in lis:\n",
    "    parser.feed(i)"
   ]
  }
 ],
 "metadata": {
  "language_info": {
   "name": "python"
  }
 },
 "nbformat": 4,
 "nbformat_minor": 2
}
